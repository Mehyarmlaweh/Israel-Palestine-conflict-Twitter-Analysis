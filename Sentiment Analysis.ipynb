{
 "cells": [
  {
   "cell_type": "markdown",
   "id": "5623f9c2",
   "metadata": {},
   "source": [
    "# Import library"
   ]
  },
  {
   "cell_type": "code",
   "execution_count": 2,
   "id": "434328ca",
   "metadata": {},
   "outputs": [],
   "source": [
    "import pandas as pd\n",
    "from vaderSentiment.vaderSentiment import SentimentIntensityAnalyzer\n",
    "import numpy as np"
   ]
  },
  {
   "cell_type": "markdown",
   "id": "9ac9bb1e",
   "metadata": {},
   "source": [
    "# Class SentimentAnalysisReport"
   ]
  },
  {
   "cell_type": "code",
   "execution_count": 3,
   "id": "29a1f21b",
   "metadata": {},
   "outputs": [],
   "source": [
    "class SentimentAnalysisReport:\n",
    "    def __init__(self, data_path):\n",
    "        # Load dataset\n",
    "        self.df = pd.read_csv(data_path)\n",
    "        \n",
    "        # Create a SentimentIntensityAnalyzer object\n",
    "        self.analyzer = SentimentIntensityAnalyzer()\n",
    "\n",
    "    def calculate_sentiment_scores(self):\n",
    "        \"\"\"\n",
    "        Calculate sentiment scores and append them to the DataFrame.\n",
    "        \"\"\"\n",
    "        scores = []\n",
    "\n",
    "        # Loop through the 'tokenized_and_lemmatized' column\n",
    "        for i in range(self.df['tokenized_and_lemmatized'].shape[0]):\n",
    "            # Check if the entry is a valid string\n",
    "            if isinstance(self.df['tokenized_and_lemmatized'][i], str):\n",
    "                compound = self.analyzer.polarity_scores(self.df['tokenized_and_lemmatized'][i])[\"compound\"]\n",
    "                pos = self.analyzer.polarity_scores(self.df['tokenized_and_lemmatized'][i])[\"pos\"]\n",
    "                neu = self.analyzer.polarity_scores(self.df['tokenized_and_lemmatized'][i])[\"neu\"]\n",
    "                neg = self.analyzer.polarity_scores(self.df['tokenized_and_lemmatized'][i])[\"neg\"]\n",
    "\n",
    "                scores.append({\n",
    "                    \"Compound\": compound,\n",
    "                    \"Positive\": pos,\n",
    "                    \"Negative\": neg,\n",
    "                    \"Neutral\": neu\n",
    "                })\n",
    "            else:\n",
    "                # Handle NaN or non-string values\n",
    "                scores.append({\n",
    "                    \"Compound\": 0.0,\n",
    "                    \"Positive\": 0.0,\n",
    "                    \"Negative\": 0.0,\n",
    "                    \"Neutral\": 1.0\n",
    "                })\n",
    "\n",
    "        # Create a DataFrame from the sentiment scores\n",
    "        sentiments_score = pd.DataFrame.from_dict(scores)\n",
    "\n",
    "        # Join the sentiment scores with the original DataFrame\n",
    "        self.df = pd.concat([self.df, sentiments_score], axis=1)\n",
    "\n",
    "    def categorize_sentiments(self):\n",
    "        \"\"\"\n",
    "        Categorize sentiments based on the Compound score.\n",
    "        \"\"\"\n",
    "        conditions = [\n",
    "            (self.df['Compound'] <= -0.5),\n",
    "            (self.df['Compound'] > -0.5) & (self.df['Compound'] < 0.5),\n",
    "            (self.df['Compound'] > 0.5)\n",
    "        ]\n",
    "\n",
    "        values = ['Negative', 'Neutral', 'Positive']\n",
    "\n",
    "        self.df['Category'] = np.select(conditions, values)\n",
    "\n",
    "    def display_sentiment_distribution(self):\n",
    "        \"\"\"\n",
    "        Display the distribution of sentiment categories.\n",
    "        \"\"\"\n",
    "        sentiment_counts = pd.DataFrame(self.df.groupby(['Category'])['Category'].count())\\\n",
    "                            .rename(columns={\"Category\": \"Counts\"})\\\n",
    "                            .assign(Percentage=lambda x: (x.Counts / x.Counts.sum()) * 100)\n",
    "\n",
    "        print(sentiment_counts)\n",
    "\n",
    "    def display_top_positive_texts(self, n=10):\n",
    "        \"\"\"\n",
    "        Display the top n positive texts.\n",
    "        \"\"\"\n",
    "        top_text = self.df.nlargest(n=n, columns=['Compound'])[\"tokenized_and_lemmatized\"]\n",
    "\n",
    "        for index, text in top_text.iteritems():\n",
    "            print(f\"Index: {index}, Text: {text}\")\n",
    "\n",
    "    def save_to_csv(self):\n",
    "        \"\"\"\n",
    "        Save 'tokenized_and_lemmatized' and 'Category' columns to a new DataFrame and download as CSV.\n",
    "        \"\"\"\n",
    "        result_df = self.df[['tokenized_and_lemmatized', 'Category']]\n",
    "        result_df.to_csv(\"SentimentsTweets.csv\", index=False)\n",
    "        print(f\"Data saved\")\n"
   ]
  },
  {
   "cell_type": "code",
   "execution_count": 4,
   "id": "5934248b",
   "metadata": {},
   "outputs": [],
   "source": [
    "# Instantiate the SentimentAnalysisReport class\n",
    "report = SentimentAnalysisReport('CleanedTweets.csv')"
   ]
  },
  {
   "cell_type": "code",
   "execution_count": 5,
   "id": "576123ee",
   "metadata": {},
   "outputs": [],
   "source": [
    "# Calculate sentiment scores\n",
    "report.calculate_sentiment_scores()"
   ]
  },
  {
   "cell_type": "code",
   "execution_count": 6,
   "id": "bad8749a",
   "metadata": {},
   "outputs": [
    {
     "name": "stdout",
     "output_type": "stream",
     "text": [
      "          Counts  Percentage\n",
      "Category                    \n",
      "Negative    4028   38.420450\n",
      "Neutral     5250   50.076307\n",
      "Positive    1206   11.503243\n"
     ]
    }
   ],
   "source": [
    "# Categorize sentiments\n",
    "report.categorize_sentiments()\n",
    "\n",
    "# Display sentiment distribution\n",
    "report.display_sentiment_distribution()"
   ]
  },
  {
   "cell_type": "code",
   "execution_count": 7,
   "id": "7452817c",
   "metadata": {
    "scrolled": true
   },
   "outputs": [
    {
     "name": "stdout",
     "output_type": "stream",
     "text": [
      "Index: 3359, Text: itay perry idf soldier died fighting hamas gaza following farewell text written wife hilum word describe much love body contain sorrow happiness gave balance soothed always supported believed always optimistic saw positive aspect every situation people like one love heart win ever heartfelt smile glowing eye huge heart gold huge loved u much loved ido gil ori know never missed opportunity show u fact want reassure strong overcome take care child honestly right know want reassure got see three amazing child want thank leaving present buy god little get see grow want reassure full perfect life everything good incredibly brief want reassure took advantage every moment taken u fight war two month ago want reassure hero want hero wanted life back beautiful time october home oriki born got know well short period time knew worst going happen missing two month spoken week longing beginning allow afraid really optimistic maybe honest promised danger allow think may come back home promised kid promised ido great hanukkah party still waiting return celebrate birthday together hand scared good good worse thing happen best people fact cliche told boy morning ido kept asking continue find cure difficult said heart later able happy left smart sensitive boy gil sweet living world waiting come back oriki oriki itay short good know loved u know knew felt love surrounded people love alone alone worst possible ending know go feel eventually find way know trust handle although right seems impossible promise every possible thing watch protect love child heart behalf well mine\n",
      "Index: 6557, Text: nytimes published story today headline bill ackman campaign harvard followed year resentment premise story false held resentment toward harvard ever none story give impression motivation raising issue antisemitism harvard president gay due prior grievance entirely false misleading true however continue serious issue harvard connection donation stock private company made late short version story follows middle divorce pershing square gone large drawdown investor redeeming challenging period time life midst personal business challenge got call harvard good news harvard able recruit raj chetty stanford needed money fund chair previously funded million initiative recruit best behavioral economist world harvard raj considered one best economist generation likely candidate nobel prize key recruit initiative launched called foundation human behavior important could fulfill long term plan recruit despite difficult personal circumstance time problem liquidity divorce consumed borrow lot money business bad place important recruit raj knew harvard could find money someone else wanted fulfill original plan foundation human behavior initiative important enough agreed give harvard stock private venture backed company expected would worth many multiple value year previously given five six chair harvard one carry name importance time entered unusual development agreement harvard address concern giving away private stock likely going worth much future gave harvard stock company valued recent round valuation agreement harvard provided company went public year stock worth would right allocate excess realized value harvard related initiative choosing event stock worth le committed make difference additional donation university wall street speak harvard put retained call right allocate excess value harvard initiative choice time harvard gift donated rest stock owned pershingsqfdn donor advised fund daf used benefit donation gift harvard offset taxable income year gave additional cash used resolve divorce three year later january learned banker private company coupang going public billion valuation valuing stock given harvard stock given foundation daf hung banker immediately called contact harvard david laibson friend former classmate college chairman economics department give good news david elated intended use fund build new home raj chetty team harvard campus new building designed norman foster economics department previously arranged norman foster tour campus conceptualize design building building created combining littauer building constructed vacant lot behind told harvard prepared give additional fund necessary make happen next day heard back david distraught told checked harvard management company hmc entity harvard responsible managing endowment learned hmc sold stock march course shocked asked hmc done told hmc told needed sell liquidity reason asked david price hmc sold said private transaction back coupang happy might expect harvard sold stock could put massive discount value time coupang made massive progress since gift december stock value increased enormously harvard never told sold share never offered opportunity buy share back higher price would happily done known university needed liquidity notion harvard needed liquidity context billion endowment face absurd sophisticated investor also understand private venture backed company buying back stock bad idea sell harvard sold stock despite fact contract provided university downside protection allowing retain upside made economic sense whatsoever harvard sold make matter worse none hmc administration even development officer courtesy apologize heard one email phone otherwise waited six month ipo ipo restriction stock lifted sold stock retained foundation daf block trade slight premium ipo price good news pershing square foundation related daf received nearly billion stock sale allocating good cause ever since bad news harvard missed potential gain lost opportunity allocate gain harvard related initiative choice course upset sold share wrote strong letter harvard corporation management board receive response sound familiar later sent email larry bacow president called eventually scheduled zoom apologized promised rectify situation never despite periodic reminder later told friend corporation board president gay took office would resolve issue month ago told progress made close resolution unfortunately stock sale issue never resolved nearly three year gone hard harvard resolve problem harvard honor agreement made grant right bargained right allocate excess proceeds harvard related initiative choice hard harvard asset harvard obligation represents fund fund stay harvard bad news harvard still fulfilled contractual obligation good news new idea fund allocated harvard problem unaware recently sometimes money help fix problem extremely clear advocacy behalf antisemitism free speech campus concern dei harvard absolutely nothing unfortunate experience donor university understand perhaps harvard would like characterize recent initiative due resentment resentment toward harvard time extremely grateful education received harvard college hb trying make sure current student future opportunity learn harvard however disappointed harvard mishandled donation related investment lost philanthropic capital plus earnings capital since august total sideshow serious concern harvard leadership harvard governance light board handled president gay situation eruption antisemitism campus better call corporation board please ask forget another issue remains unresolved\n",
      "Index: 240, Text: day two israel interviewed muslim idf soldier jewish yemeni writer muslim iraqi worker say jewish yemeni writer israeli colonizer crazy tell grandparent fled persecution yemen came safe israel colonizer colonizer refugee shame iraqi muslim girl israel apartheid never encountered racism israel entire life even arab muslim friend wear hijab say never encountered racism discrimination happening right gaza result hamas barbarism terrorist responsible death child gaza muslim idf soldier claim idf accusation idf outrageous serve muslim christian jew one purpose protecting country one else protect u repost spread message big thank incredible beautiful people interviewed ben dror yemini etaf shtewe tom hareb incredible enlightening conversation courage strength beauty heartwarming wish whole arab muslim world could hear huge thank also go sharakango illuminating organization bringing community together fighting peace middle east amazing organization god work follow last least big thank israeli stop inviting lunch dinner incredible hospitality make feel home wish could invite kosher swedish meatball yemeni twist l chaim\n",
      "Index: 1841, Text: israel palestine gaza conflict land value culture cultural map tool used sociology demography visualize value norm characterize different society around world plotting country along spectrum measuring factor like religiosity collectivism openness social change cultural map provide insight mindset behavior motivation drive various culture map illuminate conflict arise certain society nation might better communicate across cultural divide following cultural map obtained based large scale survey conducted many country around world check source plot country along two ax traditional versus secular rational value religious society survival versus self expression value individualism v collective society score high traditional survival value tend highly religious collectivist valuing conformity security meanwhile secular rational self expression culture prize individualism tolerance trust quality life map show deep cultural gorge separating muslim world bottom left western society like europe top right israel center islamic society cluster traditionalist survivalist corner western nation skew toward secular rational self expressive value cultural gap key understanding israel arab conflict intractability primal survivalist value animate many traditional arab society engender distrust outsider rejection dissent willingness use violence maintain social cohesion contrast israeli openness social change western style individualism seems decadent foreign cultural orientation breed misunderstanding fear cultural extinction seeing value align cultural map make clear arab israeli distrust run deep cultural mapping also illuminates challenge israel explaining western world european country may closely aligned israel value secularism tolerance self expression unlike israel face constant conflict traditional survivalist arab culture well intentioned european may trouble grasping israel existential security fear perception zero sum clash civilization expressed ongoing violence viewing europe sits cultural map distant arab world help contextualize westerner israel outlook diverges experience another relevant insight cultural mapping eastern european nation like russia overlap closely arab culture collectivism survival value western europe israel proximity explains threat like human right abuse expansionist warfare emanating russia seem comprehensible negotiable israel individualistic western european recognizing russia cultural geography help israeli communicate effectively european navigating aggressive autocratic adversary lastly map predict cultural clash occur result recent immigration europe africa islamic country culture gap vast europe better find way align value new citizen european culture tradition face internal unrest sooner later\n",
      "Index: 1007, Text: hope selfshipper friend know ur f o love love love whether ur romantic familial platonic f o think amazing u ever forget\n",
      "Index: 1168, Text: november china rotating president un security council told israel ambassador un gilad erdan speech condemning un woman maintain respect briefer invited meeting gilda erdan used improper language criticise un woman meeting china permanent representative united nation zhang jun respectfully interrupted remind respect others expressing remember happening often un conference roughly translated comment made china representative united nation distinguished representative israel would like remind fully express different opinion statement please show respect least briefer invited meeting consistent practice security council rule everyone abide would like remind pay attention please continue speech\n",
      "Index: 1338, Text: free palestine free haiti free congo free sudan free yemen free syria free everyone occupation undergoing form genocide\n",
      "Index: 641, Text: free palestine free congo free haiti free sudan free kingdom hawai free indigenous people colonial power goodnight everyone\n",
      "Index: 182, Text: petition protect indonesian hospital north gaza petition demand indonesian government make clear statement israel attack form indonesian hospital north gaza indirect attack citizen government republic indonesia gain immediate access indonesian hospital ensure safety attack continue demand concrete step taken ensure protection sovereignty dignity indonesian government people collect evidence israeli attack indonesian hospital bring international criminal court uphold justice transparency international law sign petition support movement message want convey indonesian government tag mr jokowi mr via social medium message reach share petition circle friend get information support movement free palestine mer c indonesia oxford indonesian society palestine solidarity mercindonesia rsindonesia savepalestine palestinewillbefree petition\n",
      "Index: 8561, Text: freedom fighter ungeneva surrender hamas release hostage ceasefire fashion phony tiktok fashion cool kid arableague arab use palestine push geopolitical agenda arabic muslim islam majority country care palestinian dont want single refugee good reason hamas arab v arab nobody would march nobody would care syria yemen prime example israel defending idf netanyahu go idf ceasefirelngazanow noceasefire free world hamasisisis hamasterrorists iran qatar unrwa\n"
     ]
    },
    {
     "name": "stderr",
     "output_type": "stream",
     "text": [
      "C:\\Users\\14384\\AppData\\Local\\Temp\\ipykernel_25436\\2792381284.py:75: FutureWarning: iteritems is deprecated and will be removed in a future version. Use .items instead.\n",
      "  for index, text in top_text.iteritems():\n"
     ]
    }
   ],
   "source": [
    "# Display 10 top positive texts\n",
    "report.display_top_positive_texts()\n"
   ]
  },
  {
   "cell_type": "code",
   "execution_count": 8,
   "id": "baba7178",
   "metadata": {},
   "outputs": [
    {
     "name": "stdout",
     "output_type": "stream",
     "text": [
      "Data saved\n"
     ]
    }
   ],
   "source": [
    "report.save_to_csv()"
   ]
  }
 ],
 "metadata": {
  "kernelspec": {
   "display_name": "Python 3 (ipykernel)",
   "language": "python",
   "name": "python3"
  },
  "language_info": {
   "codemirror_mode": {
    "name": "ipython",
    "version": 3
   },
   "file_extension": ".py",
   "mimetype": "text/x-python",
   "name": "python",
   "nbconvert_exporter": "python",
   "pygments_lexer": "ipython3",
   "version": "3.11.4"
  }
 },
 "nbformat": 4,
 "nbformat_minor": 5
}
